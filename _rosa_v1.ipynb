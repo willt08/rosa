{
  "nbformat": 4,
  "nbformat_minor": 0,
  "metadata": {
    "colab": {
      "machine_shape": "hm",
      "gpuType": "T4",
      "provenance": [],
      "include_colab_link": true
    },
    "accelerator": "GPU",
    "kaggle": {
      "accelerator": "gpu"
    },
    "language_info": {
      "name": "python"
    },
    "kernelspec": {
      "name": "python3",
      "display_name": "Python 3"
    }
  },
  "cells": [
    {
      "cell_type": "markdown",
      "metadata": {
        "id": "view-in-github",
        "colab_type": "text"
      },
      "source": [
        "<a href=\"https://colab.research.google.com/github/willt08/rosa/blob/main/_rosa_v1.ipynb\" target=\"_parent\"><img src=\"https://colab.research.google.com/assets/colab-badge.svg\" alt=\"Open In Colab\"/></a>"
      ]
    },
    {
      "cell_type": "markdown",
      "source": [
        "### **Install dependencies**"
      ],
      "metadata": {
        "id": "0giq5X7BEa6C"
      }
    },
    {
      "cell_type": "code",
      "source": [
        "!pip install torch transformers"
      ],
      "metadata": {
        "id": "SfzOc2dnvLvM"
      },
      "execution_count": null,
      "outputs": []
    },
    {
      "cell_type": "markdown",
      "source": [
        "### **Define the Rosa model**"
      ],
      "metadata": {
        "id": "Zm_788_HAU9-"
      }
    },
    {
      "cell_type": "code",
      "source": [
        "from transformers import BertModel, BertTokenizer\n",
        "import torch\n",
        "import torch.nn as nn\n",
        "\n",
        "# Define the ROSA model class\n",
        "class Rosa(nn.Module):\n",
        "    def __init__(self, model_name=\"bert-base-uncased\", num_emotions=28):\n",
        "        super().__init__()\n",
        "        self.heart = BertModel.from_pretrained(model_name)\n",
        "        self.grace = nn.Dropout(0.3)\n",
        "        self.bloom = nn.Linear(self.heart.config.hidden_size, num_emotions)\n",
        "\n",
        "    def forward(self, input_ids, attention_mask):\n",
        "        petals = self.heart(input_ids=input_ids, attention_mask=attention_mask)\n",
        "        pooled = petals.pooler_output\n",
        "        softened = self.grace(pooled)\n",
        "        logits = self.bloom(softened)\n",
        "        return logits\n"
      ],
      "metadata": {
        "id": "GYa2FYFQv8NN"
      },
      "execution_count": null,
      "outputs": []
    },
    {
      "cell_type": "markdown",
      "source": [
        "### **Load the model weights from Hugging Face**"
      ],
      "metadata": {
        "id": "G81upAojD1Rn"
      }
    },
    {
      "cell_type": "code",
      "source": [
        "# Download model weights (.pt) from your Hugging Face model repo\n",
        "!wget https://huggingface.co/willt-dc/Rosa-V1/resolve/main/rosa.pt"
      ],
      "metadata": {
        "id": "Mqu4WstbwM9h"
      },
      "execution_count": null,
      "outputs": []
    },
    {
      "cell_type": "markdown",
      "source": [
        "### **Tokenize text and Predict emotions**"
      ],
      "metadata": {
        "id": "aOtqtpc2EOhF"
      }
    },
    {
      "cell_type": "code",
      "source": [
        "# Load tokenizer and model\n",
        "tokenizer = BertTokenizer.from_pretrained(\"bert-base-uncased\")\n",
        "model = Rosa(num_emotions=28)\n",
        "model.load_state_dict(torch.load(\"rosa.pt\", map_location=torch.device(\"cpu\")))\n",
        "model.eval()\n",
        "\n",
        "# Run inference on your text\n",
        "def predict(text):\n",
        "    inputs = tokenizer(text, return_tensors=\"pt\", truncation=True, padding=True)\n",
        "    model_inputs = {\n",
        "    \"input_ids\": inputs[\"input_ids\"],\n",
        "    \"attention_mask\": inputs[\"attention_mask\"]\n",
        "}\n",
        "    with torch.no_grad():\n",
        "        logits = model(**model_inputs)\n",
        "        probs = torch.sigmoid(logits).squeeze()\n",
        "    return probs\n",
        "\n",
        "# Example\n",
        "text = \"And all I loved, I loved alone\"\n",
        "probs = predict(text)\n",
        "\n",
        "# Emotion labels\n",
        "emotion_labels = [\n",
        "    \"admiration\", \"amusement\", \"anger\", \"annoyance\", \"approval\", \"caring\",\n",
        "    \"confusion\", \"curiosity\", \"desire\", \"disappointment\", \"disapproval\",\n",
        "    \"disgust\", \"embarrassment\", \"excitement\", \"fear\", \"gratitude\", \"grief\",\n",
        "    \"joy\", \"love\", \"nervousness\", \"optimism\", \"pride\", \"realization\", \"relief\",\n",
        "    \"remorse\", \"sadness\", \"surprise\", \"neutral\"\n",
        "]\n",
        "\n",
        "# Print nicely\n",
        "for label, prob in zip(emotion_labels, probs.tolist()):\n",
        "    print(f\"{label:<15}: {prob:.4f}\")\n"
      ],
      "metadata": {
        "id": "jmh6TCWHwV_C"
      },
      "execution_count": null,
      "outputs": []
    }
  ]
}